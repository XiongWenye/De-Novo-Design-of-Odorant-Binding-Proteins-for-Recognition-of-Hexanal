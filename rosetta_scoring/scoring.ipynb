{
 "cells": [
  {
   "cell_type": "code",
   "execution_count": 26,
   "metadata": {},
   "outputs": [
    {
     "name": "stdout",
     "output_type": "stream",
     "text": [
      "┌──────────────────────────────────────────────────────────────────────────────┐\n",
      "│                                 PyRosetta-4                                  │\n",
      "│              Created in JHU by Sergey Lyskov and PyRosetta Team              │\n",
      "│              (C) Copyright Rosetta Commons Member Institutions               │\n",
      "│                                                                              │\n",
      "│ NOTE: USE OF PyRosetta FOR COMMERCIAL PURPOSES REQUIRE PURCHASE OF A LICENSE │\n",
      "│         See LICENSE.PyRosetta.md or email license@uw.edu for details         │\n",
      "└──────────────────────────────────────────────────────────────────────────────┘\n",
      "PyRosetta-4 2024 [Rosetta PyRosetta4.conda.ubuntu.cxx11thread.serialization.Ubuntu.python312.Release 2024.42+release.3366cf78a3df04339d1982e94531b77b098ddb99 2024-10-11T08:24:04] retrieved from: http://www.pyrosetta.org\n",
      "---hexanal---\n",
      "Natural Protein:  110.05446143496506\n",
      "Sample 1:  432.41156871569666\n",
      "Sample 2:  238.47834004654501\n",
      "Sample 3:  332.30127389132196\n",
      "Sample 4:  135.38998260607846\n",
      "Sample 5:  556.5066118643311\n",
      "Sample 6:  273.3222099747395\n",
      "Sample 7:  1379.8749773055176\n",
      "Sample 8:  156.29923232410272\n",
      "Sample 9:  1353.0920714277656\n",
      "Sample 10:  11.739861108285858\n"
     ]
    }
   ],
   "source": [
    "import os\n",
    "from pyrosetta import init\n",
    "init(extra_options=\"-mute all\")\n",
    "\n",
    "from pyrosetta import (\n",
    "    pose_from_pdb,\n",
    ")\n",
    "from pyrosetta.toolbox import pose_from_rcsb\n",
    "from pyrosetta import create_score_function\n",
    "from pyrosetta.toolbox import cleanATOM\n",
    "\n",
    "score_function = create_score_function(\"ref2015\")\n",
    "\n",
    "'''hexanal'''\n",
    "print(\"---hexanal---\")\n",
    "cleanATOM(\"/media/ubuntu/a8850f6f-75fc-49c4-8d7f-8841a0215149/De-Novo-Protein-Design-of-Odorant-Binding-Proteins-for-VOCs-Recognition/input/BminOBP9_S24P_lig.pdb\")\n",
    "natural_hexanal_pose=pose_from_pdb(\"/media/ubuntu/a8850f6f-75fc-49c4-8d7f-8841a0215149/De-Novo-Protein-Design-of-Odorant-Binding-Proteins-for-VOCs-Recognition/input/BminOBP9_S24P_lig.clean.pdb\")\n",
    "print(\"Natural Protein: \", score_function(natural_hexanal_pose))\n",
    "\n",
    "# pose01=pose_from_pdb(\"packed/PDC_hexanal.pdb\")\n",
    "# print(\"PDC_hexa: \", score_function(pose01))\n",
    "\n",
    "# pose02=pose_from_pdb(\"packed/MDC_hexanal.pdb\")\n",
    "# print(\"MDC_hexa: \", score_function(pose02))\n",
    "\n",
    "for i in range(1,11):\n",
    "    cleanATOM(f\"/media/ubuntu/a8850f6f-75fc-49c4-8d7f-8841a0215149/De-Novo-Protein-Design-of-Odorant-Binding-Proteins-for-VOCs-Recognition/LigandMPNN_packed/hexanal/packed/sample_10_packed_{i}_1.pdb\")\n",
    "    hexanal_poses = (pose_from_pdb(f\"/media/ubuntu/a8850f6f-75fc-49c4-8d7f-8841a0215149/De-Novo-Protein-Design-of-Odorant-Binding-Proteins-for-VOCs-Recognition/LigandMPNN_packed/hexanal/packed/sample_10_packed_{i}_1.clean.pdb\"))\n",
    "    print(f\"Sample {i}: \" , score_function(hexanal_poses))\n",
    "\n",
    "\n",
    "# pose01=pose_from_pdb(\"hexanal/PDC_rmatom.pdb\")\n",
    "# print(\"PDC_hexa: \", score_function(pose01))\n",
    "\n",
    "# pose02=pose_from_pdb(\"hexanal/MDC_rmatom.pdb\")\n",
    "# print(\"MDC_hexa: \", score_function(pose02))\n",
    "\n",
    "# poses=[]\n",
    "# for i in range(1,4):\n",
    "#     poses.append(pose_from_pdb(f\"hexanal/s{i}_rmatom.pdb\"))\n",
    "#     print(f\"Sample {i}: \" , score_function(poses[i-1]))\n"
   ]
  },
  {
   "cell_type": "code",
   "execution_count": 27,
   "metadata": {},
   "outputs": [
    {
     "name": "stdout",
     "output_type": "stream",
     "text": [
      "---octanal---\n",
      "Natural:  2045.8168387465487\n",
      "Sample 1:  1167.1281044347006\n",
      "Sample 2:  371.5733288994551\n",
      "Sample 3:  1107.1141010075787\n",
      "Sample 4:  1218.1587866968703\n",
      "Sample 5:  108.42420910122296\n",
      "Sample 6:  25.432266273666528\n",
      "Sample 7:  61.19044975751123\n",
      "Sample 8:  1064.182935314097\n",
      "Sample 9:  853.4572324105982\n",
      "Sample 10:  106.0501900932101\n"
     ]
    }
   ],
   "source": [
    "\n",
    "\n",
    "'''octanal'''\n",
    "print(\"---octanal---\")\n",
    "cleanATOM(\"/media/ubuntu/a8850f6f-75fc-49c4-8d7f-8841a0215149/De-Novo-Protein-Design-of-Odorant-Binding-Proteins-for-VOCs-Recognition/input/AgamCSp3_lig.pdb\")\n",
    "natrual_octanal_pose=pose_from_pdb(\"/media/ubuntu/a8850f6f-75fc-49c4-8d7f-8841a0215149/De-Novo-Protein-Design-of-Odorant-Binding-Proteins-for-VOCs-Recognition/input/AgamCSp3_lig.clean.pdb\")\n",
    "print(\"Natural: \", score_function(natrual_octanal_pose))\n",
    "for i in range(1,11):\n",
    "    cleanATOM(f\"/media/ubuntu/a8850f6f-75fc-49c4-8d7f-8841a0215149/De-Novo-Protein-Design-of-Odorant-Binding-Proteins-for-VOCs-Recognition/LigandMPNN_packed/octanal/packed/octanal_rfaa_packed_{i}_1.pdb\")\n",
    "    octanal_poses = pose_from_pdb(f\"/media/ubuntu/a8850f6f-75fc-49c4-8d7f-8841a0215149/De-Novo-Protein-Design-of-Odorant-Binding-Proteins-for-VOCs-Recognition/LigandMPNN_packed/octanal/packed/octanal_rfaa_packed_{i}_1.clean.pdb\")\n",
    "    print(f\"Sample {i}: \" , score_function(octanal_poses))"
   ]
  },
  {
   "cell_type": "code",
   "execution_count": 28,
   "metadata": {},
   "outputs": [
    {
     "name": "stdout",
     "output_type": "stream",
     "text": [
      "---nonanal---\n",
      "Natural:  2045.8168387465487\n",
      "Sample 1:  1122.419107810179\n",
      "Sample 2:  585.9168605444391\n",
      "Sample 3:  396.12737656651404\n",
      "Sample 4:  622.3410149414455\n",
      "Sample 5:  1764.7047095093262\n",
      "Sample 6:  684.8923275754585\n",
      "Sample 7:  1829.6712103610103\n",
      "Sample 8:  1709.38214050424\n",
      "Sample 9:  543.3002584799319\n",
      "Sample 10:  2098.9588542068623\n"
     ]
    }
   ],
   "source": [
    "'''nonanal'''\n",
    "print(\"---nonanal---\")\n",
    "cleanATOM(\"/media/ubuntu/a8850f6f-75fc-49c4-8d7f-8841a0215149/De-Novo-Protein-Design-of-Odorant-Binding-Proteins-for-VOCs-Recognition/input/AgamCSp3_lig.pdb\")\n",
    "natrual_nonanal_pose=pose_from_pdb(\"/media/ubuntu/a8850f6f-75fc-49c4-8d7f-8841a0215149/De-Novo-Protein-Design-of-Odorant-Binding-Proteins-for-VOCs-Recognition/input/AgamCSp3_lig.clean.pdb\")\n",
    "print(\"Natural: \", score_function(natrual_nonanal_pose))\n",
    "\n",
    "for i in range(1,11):\n",
    "    cleanATOM(f\"/media/ubuntu/a8850f6f-75fc-49c4-8d7f-8841a0215149/De-Novo-Protein-Design-of-Odorant-Binding-Proteins-for-VOCs-Recognition/LigandMPNN_packed/nonanal/packed/nonanal_rfaa_packed_{i}_1.pdb\")\n",
    "    nonanal_poses = (pose_from_pdb(f\"/media/ubuntu/a8850f6f-75fc-49c4-8d7f-8841a0215149/De-Novo-Protein-Design-of-Odorant-Binding-Proteins-for-VOCs-Recognition/LigandMPNN_packed/nonanal/packed/nonanal_rfaa_packed_{i}_1.clean.pdb\"))\n",
    "    print(f\"Sample {i}: \" , score_function(nonanal_poses))\n"
   ]
  }
 ],
 "metadata": {
  "kernelspec": {
   "display_name": "test",
   "language": "python",
   "name": "python3"
  },
  "language_info": {
   "codemirror_mode": {
    "name": "ipython",
    "version": 3
   },
   "file_extension": ".py",
   "mimetype": "text/x-python",
   "name": "python",
   "nbconvert_exporter": "python",
   "pygments_lexer": "ipython3",
   "version": "3.12.3"
  }
 },
 "nbformat": 4,
 "nbformat_minor": 2
}
