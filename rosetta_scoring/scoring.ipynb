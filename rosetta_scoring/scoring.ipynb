{
 "cells": [
  {
   "cell_type": "code",
   "execution_count": 1,
   "metadata": {},
   "outputs": [
    {
     "name": "stdout",
     "output_type": "stream",
     "text": [
      "┌──────────────────────────────────────────────────────────────────────────────┐\n",
      "│                                 PyRosetta-4                                  │\n",
      "│              Created in JHU by Sergey Lyskov and PyRosetta Team              │\n",
      "│              (C) Copyright Rosetta Commons Member Institutions               │\n",
      "│                                                                              │\n",
      "│ NOTE: USE OF PyRosetta FOR COMMERCIAL PURPOSES REQUIRE PURCHASE OF A LICENSE │\n",
      "│         See LICENSE.PyRosetta.md or email license@uw.edu for details         │\n",
      "└──────────────────────────────────────────────────────────────────────────────┘\n",
      "PyRosetta-4 2024 [Rosetta PyRosetta4.conda.ubuntu.cxx11thread.serialization.Ubuntu.python312.Release 2024.42+release.3366cf78a3df04339d1982e94531b77b098ddb99 2024-10-11T08:24:04] retrieved from: http://www.pyrosetta.org\n",
      "---hexanal---\n",
      "Natural Protein:  -374.22418468163045\n",
      "Sample 1:  -434.4680329181555\n",
      "Sample 2:  -465.4762313494205\n",
      "Sample 3:  -441.2675372564151\n",
      "Sample 4:  -441.05520413093205\n",
      "Sample 5:  -446.9620165060718\n",
      "Sample 6:  -438.4825007188643\n",
      "Sample 7:  -433.20410618382147\n",
      "Sample 8:  -431.20177939321184\n",
      "Sample 9:  -435.8529366834845\n",
      "Sample 10:  -428.6654866528696\n"
     ]
    }
   ],
   "source": [
    "import os\n",
    "from pyrosetta import init\n",
    "init(extra_options=\"-mute all\")\n",
    "\n",
    "from pyrosetta import (\n",
    "    pose_from_pdb,\n",
    ")\n",
    "from pyrosetta.toolbox import pose_from_rcsb\n",
    "from pyrosetta import create_score_function\n",
    "from pyrosetta.toolbox import cleanATOM\n",
    "\n",
    "score_function = create_score_function(\"ref2015\")\n",
    "\n",
    "from pyrosetta.rosetta.protocols.relax import FastRelax\n",
    "relax = FastRelax()\n",
    "relax.set_scorefxn(score_function)\n",
    "\n",
    "'''hexanal'''\n",
    "print(\"---hexanal---\")\n",
    "cleanATOM(\"/media/ubuntu/a8850f6f-75fc-49c4-8d7f-8841a0215149/De-Novo-Protein-Design-of-Odorant-Binding-Proteins-for-VOCs-Recognition/input/BminOBP9_S24P_lig.pdb\")\n",
    "natural_hexanal_pose=pose_from_pdb(\"/media/ubuntu/a8850f6f-75fc-49c4-8d7f-8841a0215149/De-Novo-Protein-Design-of-Odorant-Binding-Proteins-for-VOCs-Recognition/input/BminOBP9_S24P_lig.clean.pdb\")\n",
    "relax.apply(natural_hexanal_pose)\n",
    "print(\"Natural Protein: \", score_function(natural_hexanal_pose))\n",
    "\n",
    "# pose01=pose_from_pdb(\"packed/PDC_hexanal.pdb\")\n",
    "# print(\"PDC_hexa: \", score_function(pose01))\n",
    "\n",
    "# pose02=pose_from_pdb(\"packed/MDC_hexanal.pdb\")\n",
    "# print(\"MDC_hexa: \", score_function(pose02))\n",
    "\n",
    "for i in range(1,11):\n",
    "    cleanATOM(f\"/media/ubuntu/a8850f6f-75fc-49c4-8d7f-8841a0215149/De-Novo-Protein-Design-of-Odorant-Binding-Proteins-for-VOCs-Recognition/LigandMPNN_packed/hexanal/packed/sample_10_packed_{i}_1.pdb\")\n",
    "    hexanal_poses = (pose_from_pdb(f\"/media/ubuntu/a8850f6f-75fc-49c4-8d7f-8841a0215149/De-Novo-Protein-Design-of-Odorant-Binding-Proteins-for-VOCs-Recognition/LigandMPNN_packed/hexanal/packed/sample_10_packed_{i}_1.clean.pdb\"))\n",
    "    relax.apply(hexanal_poses)\n",
    "    print(f\"Sample {i}: \" , score_function(hexanal_poses))\n",
    "\n",
    "\n",
    "# pose01=pose_from_pdb(\"hexanal/PDC_rmatom.pdb\")\n",
    "# print(\"PDC_hexa: \", score_function(pose01))\n",
    "\n",
    "# pose02=pose_from_pdb(\"hexanal/MDC_rmatom.pdb\")\n",
    "# print(\"MDC_hexa: \", score_function(pose02))\n",
    "\n",
    "# poses=[]\n",
    "# for i in range(1,4):\n",
    "#     poses.append(pose_from_pdb(f\"hexanal/s{i}_rmatom.pdb\"))\n",
    "#     print(f\"Sample {i}: \" , score_function(poses[i-1]))\n"
   ]
  },
  {
   "cell_type": "code",
   "execution_count": 2,
   "metadata": {},
   "outputs": [
    {
     "name": "stdout",
     "output_type": "stream",
     "text": [
      "---octanal---\n",
      "Natural:  -357.68524567063884\n",
      "Sample 1:  -459.8901686973335\n",
      "Sample 2:  -450.89305699732256\n",
      "Sample 3:  -482.4100381836934\n",
      "Sample 4:  -463.0787425995116\n",
      "Sample 5:  -449.1536497699689\n",
      "Sample 6:  -454.94752053457705\n",
      "Sample 7:  -436.78351132652597\n",
      "Sample 8:  -462.03344188630535\n",
      "Sample 9:  -446.85117762152674\n",
      "Sample 10:  -462.17339966192685\n"
     ]
    }
   ],
   "source": [
    "\n",
    "\n",
    "'''octanal'''\n",
    "print(\"---octanal---\")\n",
    "cleanATOM(\"/media/ubuntu/a8850f6f-75fc-49c4-8d7f-8841a0215149/De-Novo-Protein-Design-of-Odorant-Binding-Proteins-for-VOCs-Recognition/input/SaveOBP9_lig.pdb\")\n",
    "natrual_octanal_pose=pose_from_pdb(\"/media/ubuntu/a8850f6f-75fc-49c4-8d7f-8841a0215149/De-Novo-Protein-Design-of-Odorant-Binding-Proteins-for-VOCs-Recognition/input/SaveOBP9_lig.clean.pdb\")\n",
    "relax.apply(natrual_octanal_pose)\n",
    "print(\"Natural: \", score_function(natrual_octanal_pose))\n",
    "for i in range(1,11):\n",
    "    cleanATOM(f\"/media/ubuntu/a8850f6f-75fc-49c4-8d7f-8841a0215149/De-Novo-Protein-Design-of-Odorant-Binding-Proteins-for-VOCs-Recognition/LigandMPNN_packed/octanal/packed/octanal_rfaa_packed_{i}_1.pdb\")\n",
    "    octanal_poses = pose_from_pdb(f\"/media/ubuntu/a8850f6f-75fc-49c4-8d7f-8841a0215149/De-Novo-Protein-Design-of-Odorant-Binding-Proteins-for-VOCs-Recognition/LigandMPNN_packed/octanal/packed/octanal_rfaa_packed_{i}_1.clean.pdb\")\n",
    "    relax.apply(octanal_poses)\n",
    "    print(f\"Sample {i}: \" , score_function(octanal_poses))"
   ]
  },
  {
   "cell_type": "code",
   "execution_count": 3,
   "metadata": {},
   "outputs": [
    {
     "name": "stdout",
     "output_type": "stream",
     "text": [
      "---nonanal---\n",
      "Natural:  -246.99465553973693\n",
      "Sample 1:  -398.87920056712807\n",
      "Sample 2:  -418.6089180406151\n",
      "Sample 3:  -415.2295996922969\n",
      "Sample 4:  -421.67621348618707\n",
      "Sample 5:  -418.92769308662304\n",
      "Sample 6:  -408.3772753121719\n",
      "Sample 7:  -423.65152529620855\n",
      "Sample 8:  -424.3011442250098\n",
      "Sample 9:  -418.1192030284575\n",
      "Sample 10:  -414.08228753781043\n"
     ]
    }
   ],
   "source": [
    "'''nonanal'''\n",
    "print(\"---nonanal---\")\n",
    "cleanATOM(\"/media/ubuntu/a8850f6f-75fc-49c4-8d7f-8841a0215149/De-Novo-Protein-Design-of-Odorant-Binding-Proteins-for-VOCs-Recognition/input/AgamCSP3.pdb\")\n",
    "natrual_nonanal_pose=pose_from_pdb(\"/media/ubuntu/a8850f6f-75fc-49c4-8d7f-8841a0215149/De-Novo-Protein-Design-of-Odorant-Binding-Proteins-for-VOCs-Recognition/input/AgamCSP3.clean.pdb\")\n",
    "relax.apply(natrual_nonanal_pose)\n",
    "print(\"Natural: \", score_function(natrual_nonanal_pose))\n",
    "\n",
    "for i in range(1,11):\n",
    "    cleanATOM(f\"/media/ubuntu/a8850f6f-75fc-49c4-8d7f-8841a0215149/De-Novo-Protein-Design-of-Odorant-Binding-Proteins-for-VOCs-Recognition/LigandMPNN_packed/nonanal/packed/nonanal_rfaa_packed_{i}_1.pdb\")\n",
    "    nonanal_poses = (pose_from_pdb(f\"/media/ubuntu/a8850f6f-75fc-49c4-8d7f-8841a0215149/De-Novo-Protein-Design-of-Odorant-Binding-Proteins-for-VOCs-Recognition/LigandMPNN_packed/nonanal/packed/nonanal_rfaa_packed_{i}_1.clean.pdb\"))\n",
    "    relax.apply(nonanal_poses)\n",
    "    print(f\"Sample {i}: \" , score_function(nonanal_poses))\n"
   ]
  }
 ],
 "metadata": {
  "kernelspec": {
   "display_name": "test",
   "language": "python",
   "name": "python3"
  },
  "language_info": {
   "codemirror_mode": {
    "name": "ipython",
    "version": 3
   },
   "file_extension": ".py",
   "mimetype": "text/x-python",
   "name": "python",
   "nbconvert_exporter": "python",
   "pygments_lexer": "ipython3",
   "version": "3.12.3"
  }
 },
 "nbformat": 4,
 "nbformat_minor": 2
}
